{
 "cells": [
  {
   "cell_type": "code",
   "execution_count": null,
   "metadata": {},
   "outputs": [],
   "source": [
    "#Importing the necessary libraries\n",
    "import pandas as pd\n",
    "import numpy as np\n",
    "import seaborn as sns\n",
    "import matplotlib.pyplot as plt\n",
    "%matplotlib inline\n",
    "\n",
    "\n",
    "#If the file already exists in the project repo uncomment the below line\n",
    "#data = pd.read_csv(\"diabetes1.csv\")\n",
    "\n",
    "## Else load the dataset \n",
    "data=pd.read_csv('https://raw.githubusercontent.com/plotly/datasets/master/diabetes.csv')\n",
    "\n",
    "# See the first few lines of data \n",
    "data.head()\n",
    "\n",
    "# Showing the statistical info of data\n",
    "data.describe()\n",
    "\n",
    "# Following shows the macro picture\n",
    "data.info()\n",
    "\n"
   ]
  },
  {
   "cell_type": "markdown",
   "metadata": {},
   "source": [
    "## Inference\n",
    "\n",
    "1) No missing values\n",
    "2) 0 value not possible for glucose,BP,skin thickness and insulin.This is called as data corruption"
   ]
  },
  {
   "cell_type": "markdown",
   "metadata": {},
   "source": [
    "## Domain Analysis\n",
    "\n",
    "1) Pregnancies:-Some women have diabetes before they get pregnant. This is called pregestational diabetes. Other women may get a type of diabetes that only happens in pregnancy. This is called gestational diabetes. Pregnancy can change how a woman's body uses glucose. This can make diabetes worse, or lead to gestational diabetes.\n",
    "\n",
    "If you have gestational diabetes during pregnancy, generally your blood sugar returns to its usual level soon after delivery. But if you've had gestational diabetes, you have a higher risk of getting type 2 diabetes. You'll need to be tested for changes in blood sugar more often.\n",
    "\n",
    "The risk of getting diabetes is 28% if the patient has concived more than 2 or 3 times.\n",
    "\n",
    "2) Glucose:-Glucose is your body's source of fuel. Your pancreas makes insulin to move glucose from your bloodstream into muscle, fat, and liver cells, where your body turns it into energy. People with diabetes have too much blood sugar because their body cannot move glucose into fat, liver, and muscle cells to be changed into and stored for energy.\n",
    "\n",
    "3) Blood Pressure:-A person with diabetes is twice as likely to have high blood pressure as someone who does not have diabetes. When you have diabetes, high blood sugar can damage your blood vessels and the nerves that help your heart pump.Similarly, high blood pressure can create increased strain on your heart and blood vessels. When these two conditions occur together, they increase the risk of heart disease (cardiovascular disease) and stroke.\n",
    "High blood pressure:-  According to a 2018 article, people with high blood pressure usually have insulin resistance and have an increased risk of developing diabetes compared to those with typical blood pressure. Blood pressure should be below 140/80mmHg for people with diabetes or below 130/80mmHg if you have kidney or eye disease or any condition that affects blood vessels and blood supply to the brain.\n",
    "\n",
    "4) Skin Thickness:-Skin thickening is frequently observed in patients with diabetes. Affected areas of skin can appear thickened, waxy, or edematous. These patients are often asymptomatic but can have a reduction in sensation and pain. Although different parts of the body can be involved, the hands and feet are most frequently involved.Diabetes can cause changes in the small blood vessels. These changes can cause skin problems called diabetic dermopathy. Dermopathy often looks like light brown, scaly patches. These patches may be oval or circular.\n",
    "\n",
    "\n",
    "5) Insulin:-Insulin is a hormone your pancreas makes to lower blood glucose, or sugar. If you have diabetes, your pancreas either doesn't make enough insulin or your body doesn't respond well to it. Your body needs insulin to keep the blood sugar level in a healthy range.Type 1 diabetes causes damage to the beta cells in your pancreas that make insulin. As a result, your body can't produce enough of this hormone. Type 2 diabetes gradually makes it harder for your be\n",
    "\n",
    "\n",
    "6) BMI:-Body mass index has a strong relationship to diabetes and insulin resistance. In obese individuals, the amount of nonesterified fatty acids, glycerol, hormones, cytokines, proinflammatory markers, and other substances that are involved in the development of insulin resistance, is increased. The pathogenesis in the development of diabetes is based on the fact that the β-islet cells of the pancreas are impaired, causing a lack of control of blood glucose. The development of diabetes becomes more inevitable if the failure of β-islet cells of the pancreas is accompanied by insulin resistance. Weight gain and body mass are central to the formation and rising incidence of type 1 and type 2 diabetes.\n",
    "\n",
    "8) Age:-The prevalence of both type 2 diabetes and prediabetes increases with advancing age. The most important factors leading to hyperglycaemia are as follows: deficiency of insulin secretion developing with age, and growing insulin resistance caused by a change in body composition and sarcopaenia.The process of aging of the human body leads to impairment of energy homeostasis and abnormalities in carbohydrate metabolism. The most important causes of hyperglycaemia are thought to be deficiency of insulin secretion developing with age and growing insulin resistance.\n"
   ]
  },
  {
   "cell_type": "code",
   "execution_count": null,
   "metadata": {},
   "outputs": [],
   "source": [
    "sns.countplot(x='Pregnancies',data=data)\n",
    "# Maximum patients have conceived  1 and 0 times.\n",
    "\n",
    "plt.figure(figsize=(20,25),facecolor='white')\n",
    "plotnumber=1\n",
    "\n",
    "for column in data:\n",
    "    if plotnumber<=9:\n",
    "        ax=plt.subplot(3,3,plotnumber)\n",
    "        sns.histplot(data[column])\n",
    "        plt.xlabel(column,fontsize=20)\n",
    "        plt.ylabel('Count',fontsize=20)\n",
    "    plotnumber+=1\n",
    "plt.tight_layout()\n",
    "    \n",
    "## Bivariate Analysis\n",
    "\n",
    "## Analyzing how preganancies impact the patient with diabetes.\n",
    "sns.countplot(x='Pregnancies',hue='Outcome',data=data)\n",
    "plt.show()\n",
    "\n"
   ]
  },
  {
   "cell_type": "markdown",
   "metadata": {},
   "source": [
    "## Inferences\n",
    "\n",
    "1) If the pateint is pregnant,she will get diabetes.But after analyzing this data,we found as the no of pregnenacy increases chances of getting diabetes also increases.\n",
    "2) From 14 to 17 pregnancies all women are diabetic."
   ]
  },
  {
   "cell_type": "code",
   "execution_count": null,
   "metadata": {},
   "outputs": [],
   "source": [
    "## Aanlyzing the relationship between diabetes and Glucose\n",
    "sns.histplot(x='Glucose',hue='Outcome',data=data)"
   ]
  },
  {
   "cell_type": "markdown",
   "metadata": {},
   "source": [
    "## Relationship between diabetes and glucose\n",
    "\n",
    "1) In the given data, a person having glucose range till 100 can be considered as they having lesser chance of getting diabetes.\n",
    "\n",
    "2) A person having glucose range between 100 to 150,he is equaly at risk and no risk and we need to analyze more features of the patient.\n",
    "\n",
    "3) If a person have glucose more than 150,higher is the chance of getting diabetes."
   ]
  },
  {
   "cell_type": "code",
   "execution_count": null,
   "metadata": {},
   "outputs": [],
   "source": [
    "## Analyze Glucose with blood pressure\n",
    "sns.relplot(x='Glucose',y='BloodPressure',hue='Outcome',data=data)\n",
    "plt.show()"
   ]
  },
  {
   "cell_type": "markdown",
   "metadata": {},
   "source": [
    "## Inference\n",
    "\n",
    "By analyzing BP and Glucose together,we can say we need more features to understand. When glucose is increased to certain level,where even if the BP is normal, the person is diabetic."
   ]
  },
  {
   "cell_type": "code",
   "execution_count": null,
   "metadata": {},
   "outputs": [],
   "source": [
    "## Analyze Glucose with SkinThickness\n",
    "sns.relplot(x='Glucose',y='SkinThickness',hue='Outcome',data=data)\n",
    "plt.show()"
   ]
  },
  {
   "cell_type": "markdown",
   "metadata": {},
   "source": [
    "## Inference\n",
    "\n",
    "There seem to be no defined relationship between glucose and skin thickness as far as diabetes is concerned from the given data. Thus we need other features to get the relation."
   ]
  },
  {
   "cell_type": "code",
   "execution_count": null,
   "metadata": {},
   "outputs": [],
   "source": [
    "## Analyze relationship between BloodPressure and Outcome\n",
    "\n",
    "sns.histplot(x='BloodPressure',hue='Outcome',data=data)"
   ]
  },
  {
   "cell_type": "markdown",
   "metadata": {},
   "source": [
    "## Inference\n",
    "\n",
    "No specific relationship found."
   ]
  },
  {
   "cell_type": "code",
   "execution_count": null,
   "metadata": {},
   "outputs": [],
   "source": [
    "# Analyze BP with SkinThickness\n",
    "\n",
    "sns.relplot(x='BloodPressure',y='SkinThickness',hue='Outcome',data=data)\n",
    "plt.show()\n",
    "\n",
    "# Analyze BP with Insulin\n",
    "\n",
    "sns.relplot(x='BloodPressure',y='Insulin',col='Outcome',data=data)\n",
    "plt.show()\n",
    "\n",
    "# Analyzing Insulin with target\n",
    "sns.histplot(x='Insulin',hue='Outcome',data=data)"
   ]
  },
  {
   "cell_type": "markdown",
   "metadata": {},
   "source": [
    "## Inference\n",
    "\n",
    "If the person has insulin level till 100,mostly he will be non diabetic afterwards we can see for when insulin increases, people are at high risk of getting diabetic, when it is not utilised "
   ]
  },
  {
   "cell_type": "markdown",
   "metadata": {},
   "source": [
    "# Data processing and Feature Engineering"
   ]
  },
  {
   "cell_type": "code",
   "execution_count": null,
   "metadata": {},
   "outputs": [],
   "source": [
    "#Step 1 Handling the missing values\n",
    "data.isnull().sum()\n",
    "\n",
    "# Step 2 Handling the corrupted data.\n",
    "data.describe()\n",
    "\n",
    "## In 'Glucose', 'BloodPressure', 'SkinThickness', 'Insulin','BMI' certain datapoints are zero.\n",
    "\n",
    "data.loc[data['Glucose']==0]\n",
    "\n",
    "data.Glucose.replace(0,np.mean(data.Glucose),inplace=True)\n",
    "\n",
    "#dataframe.column.replace('Value to be replaced','By what value')\n",
    "\n",
    "data.loc[data['Glucose']==0]\n",
    "data.BloodPressure.replace(0,np.mean(data.BloodPressure),inplace=True)\n",
    "data.SkinThickness.replace(0,np.median(data.SkinThickness),inplace=True)\n",
    "data.Insulin.replace(0,np.median(data.Insulin),inplace=True)\n",
    "data.BMI.replace(0,np.mean(data.BMI),inplace=True)\n",
    "\n",
    "data.describe()\n",
    "\n",
    "# Step 3:-Numerical representation of string data\n",
    "import warnings\n",
    "warnings.filterwarnings(\"ignore\")\n",
    "\n",
    "## Step 4:-Checking the outliers\n",
    "plt.figure(figsize=(20,25),facecolor='white')\n",
    "plotnumber=1\n",
    "\n",
    "for column in data:\n",
    "    if plotnumber<=9:\n",
    "        ax=plt.subplot(3,3,plotnumber)\n",
    "        sns.boxplot(data[column])\n",
    "        plt.xlabel(column,fontsize=20)\n",
    "        plt.ylabel('Count',fontsize=20)\n",
    "    plotnumber+=1\n",
    "plt.tight_layout()\n",
    "\n",
    "# Step 5:-Scaling the data\n",
    "\n",
    "from sklearn.preprocessing import MinMaxScaler\n",
    "sc=MinMaxScaler()\n",
    "dl=['Pregnancies','Outcome']\n",
    "data1=sc.fit_transform(data.drop(dl,axis=1))\n",
    "\n",
    "con_data=data[['Pregnancies','Outcome']]\n",
    "\n",
    "data1\n",
    "\n",
    "data.columns\n",
    "\n",
    "type(data1)\n",
    "data2=pd.DataFrame(data1,columns=['Glucose', 'BloodPressure', 'SkinThickness', 'Insulin',\n",
    "       'BMI', 'DiabetesPedigreeFunction', 'Age'])\n",
    "\n",
    "final_df=pd.concat([data2,con_data],axis=1)\n",
    "\n",
    "final_df\n",
    "\n"
   ]
  },
  {
   "cell_type": "markdown",
   "metadata": {},
   "source": [
    "# Feature Selection"
   ]
  },
  {
   "cell_type": "code",
   "execution_count": null,
   "metadata": {},
   "outputs": [],
   "source": [
    "# No redundant fetaures\n",
    "# We will check correlation\n",
    "sns.heatmap(data2.corr(),annot=True)\n",
    "\n",
    "# So no correlation hence no features should be "
   ]
  },
  {
   "cell_type": "markdown",
   "metadata": {},
   "source": [
    "# Model Creation"
   ]
  },
  {
   "cell_type": "code",
   "execution_count": null,
   "metadata": {},
   "outputs": [],
   "source": [
    "# Step 1 Creating independent and dependent variable.\n",
    "\n",
    "X=final_df.iloc[:,:-1]\n",
    "y=final_df.Outcome\n",
    "\n",
    "# Step 2 Creating training and testing data.\n",
    "from sklearn.model_selection import train_test_split\n",
    "X_train,X_test,y_train,y_test=train_test_split(X,y,test_size=0.3,random_state=45)\n",
    "\n",
    "y_test.shape\n",
    "\n",
    "# Step 3 Model creation\n",
    "from sklearn.linear_model import LogisticRegression\n",
    "clf=LogisticRegression()\n",
    "\n",
    "clf.fit(X_train,y_train)  ## training\n",
    "\n",
    "# Step 4 Prediction\n",
    "y_pred=clf.predict(X_test)\n",
    "\n",
    "y_pred\n",
    "y_pred_prob=clf.predict_proba(X_test)\n",
    "y_pred_prob\n",
    "\n",
    "data.Outcome.value_counts()"
   ]
  },
  {
   "cell_type": "markdown",
   "metadata": {},
   "source": [
    "# Evaluation of Model"
   ]
  },
  {
   "cell_type": "code",
   "execution_count": null,
   "metadata": {},
   "outputs": [],
   "source": [
    "from sklearn.metrics import confusion_matrix,accuracy_score,recall_score, precision_score,classification_report,f1_score\n",
    "cm=confusion_matrix(y_test,y_pred)\n",
    "print(cm)\n",
    "\n",
    "pd.crosstab(y_test,y_pred)\n",
    "\n",
    "Acc = accuracy_score(y_test,y_pred)\n",
    "Acc\n",
    "\n",
    "recall=recall_score(y_test,y_pred)\n",
    "recall\n",
    "\n",
    "precision=precision_score(y_test,y_pred)\n",
    "precision\n",
    "\n",
    "f1score=f1_score(y_test,y_pred)\n",
    "f1score\n",
    "\n",
    "cr=classification_report(y_test,y_pred)\n",
    "print(cr)\n",
    "\n",
    "## Testing the model\n",
    "y_test.value_counts()"
   ]
  }
 ],
 "metadata": {
  "language_info": {
   "name": "python"
  }
 },
 "nbformat": 4,
 "nbformat_minor": 2
}
